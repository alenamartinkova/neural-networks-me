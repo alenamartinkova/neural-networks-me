{
 "cells": [
  {
   "cell_type": "code",
   "id": "initial_id",
   "metadata": {
    "collapsed": true,
    "ExecuteTime": {
     "end_time": "2024-04-25T13:32:44.229850Z",
     "start_time": "2024-04-25T13:32:40.582032Z"
    }
   },
   "source": [
    "import tensorflow as tf\n",
    "import keras\n",
    "from keras import layers\n",
    "from keras import regularizers\n",
    "import matplotlib.pyplot as plt"
   ],
   "outputs": [],
   "execution_count": 1
  },
  {
   "metadata": {
    "ExecuteTime": {
     "end_time": "2024-04-25T13:32:52.761643Z",
     "start_time": "2024-04-25T13:32:52.550679Z"
    }
   },
   "cell_type": "code",
   "source": [
    "#download data with Keras function ImageDataGenerator\n",
    "test_dir = 'archive/test'\n",
    "train_dir = 'archive/train'\n",
    "\n",
    "datagen = tf.keras.preprocessing.image.ImageDataGenerator(rescale=1./255)  # Scaling pixels to scale [0, 1]\n",
    "\n",
    "train_data = datagen.flow_from_directory(train_dir, target_size=(128, 128), batch_size=64, class_mode='sparse', shuffle=False)  \n",
    "\n",
    "test_data = datagen.flow_from_directory(test_dir, target_size=(128, 128), batch_size=64, class_mode='sparse', shuffle=False)"
   ],
   "id": "bcdf72dc46c62a5f",
   "outputs": [
    {
     "name": "stdout",
     "output_type": "stream",
     "text": [
      "Found 4733 images belonging to 2 classes.\n",
      "Found 1184 images belonging to 2 classes.\n"
     ]
    }
   ],
   "execution_count": 4
  },
  {
   "metadata": {
    "ExecuteTime": {
     "end_time": "2024-04-25T13:32:21.662160Z",
     "start_time": "2024-04-25T13:32:21.541504Z"
    }
   },
   "cell_type": "code",
   "source": [
    "x, y = next(train_data)\n",
    "print('Shape of x:', x.shape)\n",
    "print('Shape of y:', y.shape)"
   ],
   "id": "21b05f346bde4eb2",
   "outputs": [
    {
     "name": "stdout",
     "output_type": "stream",
     "text": [
      "Shape of x: (64, 128, 128, 3)\n",
      "Shape of y: (64,)\n"
     ]
    }
   ],
   "execution_count": 3
  },
  {
   "metadata": {
    "ExecuteTime": {
     "end_time": "2024-04-25T13:32:21.666536Z",
     "start_time": "2024-04-25T13:32:21.663633Z"
    }
   },
   "cell_type": "code",
   "source": [
    "first_image = x[0]\n",
    "first_label = y[0]\n",
    "print('Shape of first_image:', first_image.shape)\n",
    "print('First label:', first_label)"
   ],
   "id": "da1619fb09bef7ce",
   "outputs": [
    {
     "name": "stdout",
     "output_type": "stream",
     "text": [
      "Shape of first_image: (128, 128, 3)\n",
      "First label: 0.0\n"
     ]
    }
   ],
   "execution_count": 4
  },
  {
   "metadata": {
    "ExecuteTime": {
     "end_time": "2024-04-25T13:32:21.763023Z",
     "start_time": "2024-04-25T13:32:21.670666Z"
    }
   },
   "cell_type": "code",
   "source": "test_data",
   "id": "5ada3fd40da48927",
   "outputs": [
    {
     "data": {
      "text/plain": [
       "<keras.src.legacy.preprocessing.image.DirectoryIterator at 0x103f9a2d0>"
      ]
     },
     "execution_count": 5,
     "metadata": {},
     "output_type": "execute_result"
    }
   ],
   "execution_count": 5
  },
  {
   "metadata": {
    "ExecuteTime": {
     "end_time": "2024-04-25T13:32:21.771475Z",
     "start_time": "2024-04-25T13:32:21.765784Z"
    }
   },
   "cell_type": "code",
   "source": [
    "#write function for   fcc nn \n",
    "def fcc_nn_model():\n",
    "    model= keras.Sequential()\n",
    "    model.add(layers.Flatten (input_shape=[128,128,3]))\n",
    "    model.add(layers.Dense(64, activation='relu'))\n",
    "    model.add(layers.Dense(32, activation='relu'))\n",
    "    model.add(layers.Dense(2, activation='softmax'))\n",
    "\n",
    "    model.compile(optimizer='adam',\n",
    "                  loss='sparse_categorical_crossentropy',\n",
    "                  metrics = ['accuracy'])\n",
    "    return model"
   ],
   "id": "491e32c76e88601f",
   "outputs": [],
   "execution_count": 6
  },
  {
   "metadata": {
    "ExecuteTime": {
     "end_time": "2024-04-25T13:32:32.318427Z",
     "start_time": "2024-04-25T13:32:21.773568Z"
    }
   },
   "cell_type": "code",
   "source": [
    "#and fit model\n",
    "model=fcc_nn_model()\n",
    "history_fcc_nn = model.fit(train_data,\n",
    "          epochs=50,\n",
    "          validation_data=test_data, batch_size=128)\n",
    "\n",
    "test_loss, test_accuracy = model.evaluate(test_data)"
   ],
   "id": "f318c17f3e45dc5e",
   "outputs": [
    {
     "name": "stderr",
     "output_type": "stream",
     "text": [
      "/Users/alenamartinkova/venvs/neural-networks-me/lib/python3.11/site-packages/keras/src/layers/reshaping/flatten.py:37: UserWarning: Do not pass an `input_shape`/`input_dim` argument to a layer. When using Sequential models, prefer using an `Input(shape)` object as the first layer in the model instead.\n",
      "  super().__init__(**kwargs)\n",
      "2024-04-25 15:32:21.794962: I metal_plugin/src/device/metal_device.cc:1154] Metal device set to: Apple M1 Pro\n",
      "2024-04-25 15:32:21.794990: I metal_plugin/src/device/metal_device.cc:296] systemMemory: 16.00 GB\n",
      "2024-04-25 15:32:21.794998: I metal_plugin/src/device/metal_device.cc:313] maxCacheSize: 5.33 GB\n",
      "2024-04-25 15:32:21.795190: I tensorflow/core/common_runtime/pluggable_device/pluggable_device_factory.cc:305] Could not identify NUMA node of platform GPU ID 0, defaulting to 0. Your kernel may not have been built with NUMA support.\n",
      "2024-04-25 15:32:21.795224: I tensorflow/core/common_runtime/pluggable_device/pluggable_device_factory.cc:271] Created TensorFlow device (/job:localhost/replica:0/task:0/device:GPU:0 with 0 MB memory) -> physical PluggableDevice (device: 0, name: METAL, pci bus id: <undefined>)\n"
     ]
    },
    {
     "name": "stdout",
     "output_type": "stream",
     "text": [
      "Epoch 1/50\n"
     ]
    },
    {
     "name": "stderr",
     "output_type": "stream",
     "text": [
      "2024-04-25 15:32:22.385865: I tensorflow/core/grappler/optimizers/custom_graph_optimizer_registry.cc:117] Plugin optimizer for device_type GPU is enabled.\n",
      "/Users/alenamartinkova/venvs/neural-networks-me/lib/python3.11/site-packages/keras/src/trainers/data_adapters/py_dataset_adapter.py:120: UserWarning: Your `PyDataset` class should call `super().__init__(**kwargs)` in its constructor. `**kwargs` can include `workers`, `use_multiprocessing`, `max_queue_size`. Do not pass these arguments to `fit()`, as they will be ignored.\n",
      "  self._warn_if_super_not_called()\n"
     ]
    },
    {
     "name": "stdout",
     "output_type": "stream",
     "text": [
      "\u001B[1m38/74\u001B[0m \u001B[32m━━━━━━━━━━\u001B[0m\u001B[37m━━━━━━━━━━\u001B[0m \u001B[1m6s\u001B[0m 185ms/step - accuracy: 0.4615 - loss: 6.9518"
     ]
    },
    {
     "ename": "KeyboardInterrupt",
     "evalue": "",
     "output_type": "error",
     "traceback": [
      "\u001B[0;31m---------------------------------------------------------------------------\u001B[0m",
      "\u001B[0;31mKeyboardInterrupt\u001B[0m                         Traceback (most recent call last)",
      "Cell \u001B[0;32mIn[7], line 3\u001B[0m\n\u001B[1;32m      1\u001B[0m \u001B[38;5;66;03m#and fit model\u001B[39;00m\n\u001B[1;32m      2\u001B[0m model\u001B[38;5;241m=\u001B[39mfcc_nn_model()\n\u001B[0;32m----> 3\u001B[0m history_fcc_nn \u001B[38;5;241m=\u001B[39m \u001B[43mmodel\u001B[49m\u001B[38;5;241;43m.\u001B[39;49m\u001B[43mfit\u001B[49m\u001B[43m(\u001B[49m\u001B[43mtrain_data\u001B[49m\u001B[43m,\u001B[49m\n\u001B[1;32m      4\u001B[0m \u001B[43m          \u001B[49m\u001B[43mepochs\u001B[49m\u001B[38;5;241;43m=\u001B[39;49m\u001B[38;5;241;43m50\u001B[39;49m\u001B[43m,\u001B[49m\n\u001B[1;32m      5\u001B[0m \u001B[43m          \u001B[49m\u001B[43mvalidation_data\u001B[49m\u001B[38;5;241;43m=\u001B[39;49m\u001B[43mtest_data\u001B[49m\u001B[43m,\u001B[49m\u001B[43m \u001B[49m\u001B[43mbatch_size\u001B[49m\u001B[38;5;241;43m=\u001B[39;49m\u001B[38;5;241;43m128\u001B[39;49m\u001B[43m)\u001B[49m\n\u001B[1;32m      7\u001B[0m test_loss, test_accuracy \u001B[38;5;241m=\u001B[39m model\u001B[38;5;241m.\u001B[39mevaluate(test_data)\n",
      "File \u001B[0;32m~/venvs/neural-networks-me/lib/python3.11/site-packages/keras/src/utils/traceback_utils.py:117\u001B[0m, in \u001B[0;36mfilter_traceback.<locals>.error_handler\u001B[0;34m(*args, **kwargs)\u001B[0m\n\u001B[1;32m    115\u001B[0m filtered_tb \u001B[38;5;241m=\u001B[39m \u001B[38;5;28;01mNone\u001B[39;00m\n\u001B[1;32m    116\u001B[0m \u001B[38;5;28;01mtry\u001B[39;00m:\n\u001B[0;32m--> 117\u001B[0m     \u001B[38;5;28;01mreturn\u001B[39;00m \u001B[43mfn\u001B[49m\u001B[43m(\u001B[49m\u001B[38;5;241;43m*\u001B[39;49m\u001B[43margs\u001B[49m\u001B[43m,\u001B[49m\u001B[43m \u001B[49m\u001B[38;5;241;43m*\u001B[39;49m\u001B[38;5;241;43m*\u001B[39;49m\u001B[43mkwargs\u001B[49m\u001B[43m)\u001B[49m\n\u001B[1;32m    118\u001B[0m \u001B[38;5;28;01mexcept\u001B[39;00m \u001B[38;5;167;01mException\u001B[39;00m \u001B[38;5;28;01mas\u001B[39;00m e:\n\u001B[1;32m    119\u001B[0m     filtered_tb \u001B[38;5;241m=\u001B[39m _process_traceback_frames(e\u001B[38;5;241m.\u001B[39m__traceback__)\n",
      "File \u001B[0;32m~/venvs/neural-networks-me/lib/python3.11/site-packages/keras/src/backend/tensorflow/trainer.py:314\u001B[0m, in \u001B[0;36mTensorFlowTrainer.fit\u001B[0;34m(self, x, y, batch_size, epochs, verbose, callbacks, validation_split, validation_data, shuffle, class_weight, sample_weight, initial_epoch, steps_per_epoch, validation_steps, validation_batch_size, validation_freq)\u001B[0m\n\u001B[1;32m    312\u001B[0m \u001B[38;5;28;01mfor\u001B[39;00m step, iterator \u001B[38;5;129;01min\u001B[39;00m epoch_iterator\u001B[38;5;241m.\u001B[39menumerate_epoch():\n\u001B[1;32m    313\u001B[0m     callbacks\u001B[38;5;241m.\u001B[39mon_train_batch_begin(step)\n\u001B[0;32m--> 314\u001B[0m     logs \u001B[38;5;241m=\u001B[39m \u001B[38;5;28;43mself\u001B[39;49m\u001B[38;5;241;43m.\u001B[39;49m\u001B[43mtrain_function\u001B[49m\u001B[43m(\u001B[49m\u001B[43miterator\u001B[49m\u001B[43m)\u001B[49m\n\u001B[1;32m    315\u001B[0m     logs \u001B[38;5;241m=\u001B[39m \u001B[38;5;28mself\u001B[39m\u001B[38;5;241m.\u001B[39m_pythonify_logs(logs)\n\u001B[1;32m    316\u001B[0m     callbacks\u001B[38;5;241m.\u001B[39mon_train_batch_end(step, logs)\n",
      "File \u001B[0;32m~/venvs/neural-networks-me/lib/python3.11/site-packages/tensorflow/python/util/traceback_utils.py:150\u001B[0m, in \u001B[0;36mfilter_traceback.<locals>.error_handler\u001B[0;34m(*args, **kwargs)\u001B[0m\n\u001B[1;32m    148\u001B[0m filtered_tb \u001B[38;5;241m=\u001B[39m \u001B[38;5;28;01mNone\u001B[39;00m\n\u001B[1;32m    149\u001B[0m \u001B[38;5;28;01mtry\u001B[39;00m:\n\u001B[0;32m--> 150\u001B[0m   \u001B[38;5;28;01mreturn\u001B[39;00m \u001B[43mfn\u001B[49m\u001B[43m(\u001B[49m\u001B[38;5;241;43m*\u001B[39;49m\u001B[43margs\u001B[49m\u001B[43m,\u001B[49m\u001B[43m \u001B[49m\u001B[38;5;241;43m*\u001B[39;49m\u001B[38;5;241;43m*\u001B[39;49m\u001B[43mkwargs\u001B[49m\u001B[43m)\u001B[49m\n\u001B[1;32m    151\u001B[0m \u001B[38;5;28;01mexcept\u001B[39;00m \u001B[38;5;167;01mException\u001B[39;00m \u001B[38;5;28;01mas\u001B[39;00m e:\n\u001B[1;32m    152\u001B[0m   filtered_tb \u001B[38;5;241m=\u001B[39m _process_traceback_frames(e\u001B[38;5;241m.\u001B[39m__traceback__)\n",
      "File \u001B[0;32m~/venvs/neural-networks-me/lib/python3.11/site-packages/tensorflow/python/eager/polymorphic_function/polymorphic_function.py:833\u001B[0m, in \u001B[0;36mFunction.__call__\u001B[0;34m(self, *args, **kwds)\u001B[0m\n\u001B[1;32m    830\u001B[0m compiler \u001B[38;5;241m=\u001B[39m \u001B[38;5;124m\"\u001B[39m\u001B[38;5;124mxla\u001B[39m\u001B[38;5;124m\"\u001B[39m \u001B[38;5;28;01mif\u001B[39;00m \u001B[38;5;28mself\u001B[39m\u001B[38;5;241m.\u001B[39m_jit_compile \u001B[38;5;28;01melse\u001B[39;00m \u001B[38;5;124m\"\u001B[39m\u001B[38;5;124mnonXla\u001B[39m\u001B[38;5;124m\"\u001B[39m\n\u001B[1;32m    832\u001B[0m \u001B[38;5;28;01mwith\u001B[39;00m OptionalXlaContext(\u001B[38;5;28mself\u001B[39m\u001B[38;5;241m.\u001B[39m_jit_compile):\n\u001B[0;32m--> 833\u001B[0m   result \u001B[38;5;241m=\u001B[39m \u001B[38;5;28;43mself\u001B[39;49m\u001B[38;5;241;43m.\u001B[39;49m\u001B[43m_call\u001B[49m\u001B[43m(\u001B[49m\u001B[38;5;241;43m*\u001B[39;49m\u001B[43margs\u001B[49m\u001B[43m,\u001B[49m\u001B[43m \u001B[49m\u001B[38;5;241;43m*\u001B[39;49m\u001B[38;5;241;43m*\u001B[39;49m\u001B[43mkwds\u001B[49m\u001B[43m)\u001B[49m\n\u001B[1;32m    835\u001B[0m new_tracing_count \u001B[38;5;241m=\u001B[39m \u001B[38;5;28mself\u001B[39m\u001B[38;5;241m.\u001B[39mexperimental_get_tracing_count()\n\u001B[1;32m    836\u001B[0m without_tracing \u001B[38;5;241m=\u001B[39m (tracing_count \u001B[38;5;241m==\u001B[39m new_tracing_count)\n",
      "File \u001B[0;32m~/venvs/neural-networks-me/lib/python3.11/site-packages/tensorflow/python/eager/polymorphic_function/polymorphic_function.py:878\u001B[0m, in \u001B[0;36mFunction._call\u001B[0;34m(self, *args, **kwds)\u001B[0m\n\u001B[1;32m    875\u001B[0m \u001B[38;5;28mself\u001B[39m\u001B[38;5;241m.\u001B[39m_lock\u001B[38;5;241m.\u001B[39mrelease()\n\u001B[1;32m    876\u001B[0m \u001B[38;5;66;03m# In this case we have not created variables on the first call. So we can\u001B[39;00m\n\u001B[1;32m    877\u001B[0m \u001B[38;5;66;03m# run the first trace but we should fail if variables are created.\u001B[39;00m\n\u001B[0;32m--> 878\u001B[0m results \u001B[38;5;241m=\u001B[39m \u001B[43mtracing_compilation\u001B[49m\u001B[38;5;241;43m.\u001B[39;49m\u001B[43mcall_function\u001B[49m\u001B[43m(\u001B[49m\n\u001B[1;32m    879\u001B[0m \u001B[43m    \u001B[49m\u001B[43margs\u001B[49m\u001B[43m,\u001B[49m\u001B[43m \u001B[49m\u001B[43mkwds\u001B[49m\u001B[43m,\u001B[49m\u001B[43m \u001B[49m\u001B[38;5;28;43mself\u001B[39;49m\u001B[38;5;241;43m.\u001B[39;49m\u001B[43m_variable_creation_config\u001B[49m\n\u001B[1;32m    880\u001B[0m \u001B[43m\u001B[49m\u001B[43m)\u001B[49m\n\u001B[1;32m    881\u001B[0m \u001B[38;5;28;01mif\u001B[39;00m \u001B[38;5;28mself\u001B[39m\u001B[38;5;241m.\u001B[39m_created_variables:\n\u001B[1;32m    882\u001B[0m   \u001B[38;5;28;01mraise\u001B[39;00m \u001B[38;5;167;01mValueError\u001B[39;00m(\u001B[38;5;124m\"\u001B[39m\u001B[38;5;124mCreating variables on a non-first call to a function\u001B[39m\u001B[38;5;124m\"\u001B[39m\n\u001B[1;32m    883\u001B[0m                    \u001B[38;5;124m\"\u001B[39m\u001B[38;5;124m decorated with tf.function.\u001B[39m\u001B[38;5;124m\"\u001B[39m)\n",
      "File \u001B[0;32m~/venvs/neural-networks-me/lib/python3.11/site-packages/tensorflow/python/eager/polymorphic_function/tracing_compilation.py:139\u001B[0m, in \u001B[0;36mcall_function\u001B[0;34m(args, kwargs, tracing_options)\u001B[0m\n\u001B[1;32m    137\u001B[0m bound_args \u001B[38;5;241m=\u001B[39m function\u001B[38;5;241m.\u001B[39mfunction_type\u001B[38;5;241m.\u001B[39mbind(\u001B[38;5;241m*\u001B[39margs, \u001B[38;5;241m*\u001B[39m\u001B[38;5;241m*\u001B[39mkwargs)\n\u001B[1;32m    138\u001B[0m flat_inputs \u001B[38;5;241m=\u001B[39m function\u001B[38;5;241m.\u001B[39mfunction_type\u001B[38;5;241m.\u001B[39munpack_inputs(bound_args)\n\u001B[0;32m--> 139\u001B[0m \u001B[38;5;28;01mreturn\u001B[39;00m \u001B[43mfunction\u001B[49m\u001B[38;5;241;43m.\u001B[39;49m\u001B[43m_call_flat\u001B[49m\u001B[43m(\u001B[49m\u001B[43m  \u001B[49m\u001B[38;5;66;43;03m# pylint: disable=protected-access\u001B[39;49;00m\n\u001B[1;32m    140\u001B[0m \u001B[43m    \u001B[49m\u001B[43mflat_inputs\u001B[49m\u001B[43m,\u001B[49m\u001B[43m \u001B[49m\u001B[43mcaptured_inputs\u001B[49m\u001B[38;5;241;43m=\u001B[39;49m\u001B[43mfunction\u001B[49m\u001B[38;5;241;43m.\u001B[39;49m\u001B[43mcaptured_inputs\u001B[49m\n\u001B[1;32m    141\u001B[0m \u001B[43m\u001B[49m\u001B[43m)\u001B[49m\n",
      "File \u001B[0;32m~/venvs/neural-networks-me/lib/python3.11/site-packages/tensorflow/python/eager/polymorphic_function/concrete_function.py:1322\u001B[0m, in \u001B[0;36mConcreteFunction._call_flat\u001B[0;34m(self, tensor_inputs, captured_inputs)\u001B[0m\n\u001B[1;32m   1318\u001B[0m possible_gradient_type \u001B[38;5;241m=\u001B[39m gradients_util\u001B[38;5;241m.\u001B[39mPossibleTapeGradientTypes(args)\n\u001B[1;32m   1319\u001B[0m \u001B[38;5;28;01mif\u001B[39;00m (possible_gradient_type \u001B[38;5;241m==\u001B[39m gradients_util\u001B[38;5;241m.\u001B[39mPOSSIBLE_GRADIENT_TYPES_NONE\n\u001B[1;32m   1320\u001B[0m     \u001B[38;5;129;01mand\u001B[39;00m executing_eagerly):\n\u001B[1;32m   1321\u001B[0m   \u001B[38;5;66;03m# No tape is watching; skip to running the function.\u001B[39;00m\n\u001B[0;32m-> 1322\u001B[0m   \u001B[38;5;28;01mreturn\u001B[39;00m \u001B[38;5;28;43mself\u001B[39;49m\u001B[38;5;241;43m.\u001B[39;49m\u001B[43m_inference_function\u001B[49m\u001B[38;5;241;43m.\u001B[39;49m\u001B[43mcall_preflattened\u001B[49m\u001B[43m(\u001B[49m\u001B[43margs\u001B[49m\u001B[43m)\u001B[49m\n\u001B[1;32m   1323\u001B[0m forward_backward \u001B[38;5;241m=\u001B[39m \u001B[38;5;28mself\u001B[39m\u001B[38;5;241m.\u001B[39m_select_forward_and_backward_functions(\n\u001B[1;32m   1324\u001B[0m     args,\n\u001B[1;32m   1325\u001B[0m     possible_gradient_type,\n\u001B[1;32m   1326\u001B[0m     executing_eagerly)\n\u001B[1;32m   1327\u001B[0m forward_function, args_with_tangents \u001B[38;5;241m=\u001B[39m forward_backward\u001B[38;5;241m.\u001B[39mforward()\n",
      "File \u001B[0;32m~/venvs/neural-networks-me/lib/python3.11/site-packages/tensorflow/python/eager/polymorphic_function/atomic_function.py:216\u001B[0m, in \u001B[0;36mAtomicFunction.call_preflattened\u001B[0;34m(self, args)\u001B[0m\n\u001B[1;32m    214\u001B[0m \u001B[38;5;28;01mdef\u001B[39;00m \u001B[38;5;21mcall_preflattened\u001B[39m(\u001B[38;5;28mself\u001B[39m, args: Sequence[core\u001B[38;5;241m.\u001B[39mTensor]) \u001B[38;5;241m-\u001B[39m\u001B[38;5;241m>\u001B[39m Any:\n\u001B[1;32m    215\u001B[0m \u001B[38;5;250m  \u001B[39m\u001B[38;5;124;03m\"\"\"Calls with flattened tensor inputs and returns the structured output.\"\"\"\u001B[39;00m\n\u001B[0;32m--> 216\u001B[0m   flat_outputs \u001B[38;5;241m=\u001B[39m \u001B[38;5;28;43mself\u001B[39;49m\u001B[38;5;241;43m.\u001B[39;49m\u001B[43mcall_flat\u001B[49m\u001B[43m(\u001B[49m\u001B[38;5;241;43m*\u001B[39;49m\u001B[43margs\u001B[49m\u001B[43m)\u001B[49m\n\u001B[1;32m    217\u001B[0m   \u001B[38;5;28;01mreturn\u001B[39;00m \u001B[38;5;28mself\u001B[39m\u001B[38;5;241m.\u001B[39mfunction_type\u001B[38;5;241m.\u001B[39mpack_output(flat_outputs)\n",
      "File \u001B[0;32m~/venvs/neural-networks-me/lib/python3.11/site-packages/tensorflow/python/eager/polymorphic_function/atomic_function.py:251\u001B[0m, in \u001B[0;36mAtomicFunction.call_flat\u001B[0;34m(self, *args)\u001B[0m\n\u001B[1;32m    249\u001B[0m \u001B[38;5;28;01mwith\u001B[39;00m record\u001B[38;5;241m.\u001B[39mstop_recording():\n\u001B[1;32m    250\u001B[0m   \u001B[38;5;28;01mif\u001B[39;00m \u001B[38;5;28mself\u001B[39m\u001B[38;5;241m.\u001B[39m_bound_context\u001B[38;5;241m.\u001B[39mexecuting_eagerly():\n\u001B[0;32m--> 251\u001B[0m     outputs \u001B[38;5;241m=\u001B[39m \u001B[38;5;28;43mself\u001B[39;49m\u001B[38;5;241;43m.\u001B[39;49m\u001B[43m_bound_context\u001B[49m\u001B[38;5;241;43m.\u001B[39;49m\u001B[43mcall_function\u001B[49m\u001B[43m(\u001B[49m\n\u001B[1;32m    252\u001B[0m \u001B[43m        \u001B[49m\u001B[38;5;28;43mself\u001B[39;49m\u001B[38;5;241;43m.\u001B[39;49m\u001B[43mname\u001B[49m\u001B[43m,\u001B[49m\n\u001B[1;32m    253\u001B[0m \u001B[43m        \u001B[49m\u001B[38;5;28;43mlist\u001B[39;49m\u001B[43m(\u001B[49m\u001B[43margs\u001B[49m\u001B[43m)\u001B[49m\u001B[43m,\u001B[49m\n\u001B[1;32m    254\u001B[0m \u001B[43m        \u001B[49m\u001B[38;5;28;43mlen\u001B[39;49m\u001B[43m(\u001B[49m\u001B[38;5;28;43mself\u001B[39;49m\u001B[38;5;241;43m.\u001B[39;49m\u001B[43mfunction_type\u001B[49m\u001B[38;5;241;43m.\u001B[39;49m\u001B[43mflat_outputs\u001B[49m\u001B[43m)\u001B[49m\u001B[43m,\u001B[49m\n\u001B[1;32m    255\u001B[0m \u001B[43m    \u001B[49m\u001B[43m)\u001B[49m\n\u001B[1;32m    256\u001B[0m   \u001B[38;5;28;01melse\u001B[39;00m:\n\u001B[1;32m    257\u001B[0m     outputs \u001B[38;5;241m=\u001B[39m make_call_op_in_graph(\n\u001B[1;32m    258\u001B[0m         \u001B[38;5;28mself\u001B[39m,\n\u001B[1;32m    259\u001B[0m         \u001B[38;5;28mlist\u001B[39m(args),\n\u001B[1;32m    260\u001B[0m         \u001B[38;5;28mself\u001B[39m\u001B[38;5;241m.\u001B[39m_bound_context\u001B[38;5;241m.\u001B[39mfunction_call_options\u001B[38;5;241m.\u001B[39mas_attrs(),\n\u001B[1;32m    261\u001B[0m     )\n",
      "File \u001B[0;32m~/venvs/neural-networks-me/lib/python3.11/site-packages/tensorflow/python/eager/context.py:1500\u001B[0m, in \u001B[0;36mContext.call_function\u001B[0;34m(self, name, tensor_inputs, num_outputs)\u001B[0m\n\u001B[1;32m   1498\u001B[0m cancellation_context \u001B[38;5;241m=\u001B[39m cancellation\u001B[38;5;241m.\u001B[39mcontext()\n\u001B[1;32m   1499\u001B[0m \u001B[38;5;28;01mif\u001B[39;00m cancellation_context \u001B[38;5;129;01mis\u001B[39;00m \u001B[38;5;28;01mNone\u001B[39;00m:\n\u001B[0;32m-> 1500\u001B[0m   outputs \u001B[38;5;241m=\u001B[39m \u001B[43mexecute\u001B[49m\u001B[38;5;241;43m.\u001B[39;49m\u001B[43mexecute\u001B[49m\u001B[43m(\u001B[49m\n\u001B[1;32m   1501\u001B[0m \u001B[43m      \u001B[49m\u001B[43mname\u001B[49m\u001B[38;5;241;43m.\u001B[39;49m\u001B[43mdecode\u001B[49m\u001B[43m(\u001B[49m\u001B[38;5;124;43m\"\u001B[39;49m\u001B[38;5;124;43mutf-8\u001B[39;49m\u001B[38;5;124;43m\"\u001B[39;49m\u001B[43m)\u001B[49m\u001B[43m,\u001B[49m\n\u001B[1;32m   1502\u001B[0m \u001B[43m      \u001B[49m\u001B[43mnum_outputs\u001B[49m\u001B[38;5;241;43m=\u001B[39;49m\u001B[43mnum_outputs\u001B[49m\u001B[43m,\u001B[49m\n\u001B[1;32m   1503\u001B[0m \u001B[43m      \u001B[49m\u001B[43minputs\u001B[49m\u001B[38;5;241;43m=\u001B[39;49m\u001B[43mtensor_inputs\u001B[49m\u001B[43m,\u001B[49m\n\u001B[1;32m   1504\u001B[0m \u001B[43m      \u001B[49m\u001B[43mattrs\u001B[49m\u001B[38;5;241;43m=\u001B[39;49m\u001B[43mattrs\u001B[49m\u001B[43m,\u001B[49m\n\u001B[1;32m   1505\u001B[0m \u001B[43m      \u001B[49m\u001B[43mctx\u001B[49m\u001B[38;5;241;43m=\u001B[39;49m\u001B[38;5;28;43mself\u001B[39;49m\u001B[43m,\u001B[49m\n\u001B[1;32m   1506\u001B[0m \u001B[43m  \u001B[49m\u001B[43m)\u001B[49m\n\u001B[1;32m   1507\u001B[0m \u001B[38;5;28;01melse\u001B[39;00m:\n\u001B[1;32m   1508\u001B[0m   outputs \u001B[38;5;241m=\u001B[39m execute\u001B[38;5;241m.\u001B[39mexecute_with_cancellation(\n\u001B[1;32m   1509\u001B[0m       name\u001B[38;5;241m.\u001B[39mdecode(\u001B[38;5;124m\"\u001B[39m\u001B[38;5;124mutf-8\u001B[39m\u001B[38;5;124m\"\u001B[39m),\n\u001B[1;32m   1510\u001B[0m       num_outputs\u001B[38;5;241m=\u001B[39mnum_outputs,\n\u001B[0;32m   (...)\u001B[0m\n\u001B[1;32m   1514\u001B[0m       cancellation_manager\u001B[38;5;241m=\u001B[39mcancellation_context,\n\u001B[1;32m   1515\u001B[0m   )\n",
      "File \u001B[0;32m~/venvs/neural-networks-me/lib/python3.11/site-packages/tensorflow/python/eager/execute.py:53\u001B[0m, in \u001B[0;36mquick_execute\u001B[0;34m(op_name, num_outputs, inputs, attrs, ctx, name)\u001B[0m\n\u001B[1;32m     51\u001B[0m \u001B[38;5;28;01mtry\u001B[39;00m:\n\u001B[1;32m     52\u001B[0m   ctx\u001B[38;5;241m.\u001B[39mensure_initialized()\n\u001B[0;32m---> 53\u001B[0m   tensors \u001B[38;5;241m=\u001B[39m \u001B[43mpywrap_tfe\u001B[49m\u001B[38;5;241;43m.\u001B[39;49m\u001B[43mTFE_Py_Execute\u001B[49m\u001B[43m(\u001B[49m\u001B[43mctx\u001B[49m\u001B[38;5;241;43m.\u001B[39;49m\u001B[43m_handle\u001B[49m\u001B[43m,\u001B[49m\u001B[43m \u001B[49m\u001B[43mdevice_name\u001B[49m\u001B[43m,\u001B[49m\u001B[43m \u001B[49m\u001B[43mop_name\u001B[49m\u001B[43m,\u001B[49m\n\u001B[1;32m     54\u001B[0m \u001B[43m                                      \u001B[49m\u001B[43minputs\u001B[49m\u001B[43m,\u001B[49m\u001B[43m \u001B[49m\u001B[43mattrs\u001B[49m\u001B[43m,\u001B[49m\u001B[43m \u001B[49m\u001B[43mnum_outputs\u001B[49m\u001B[43m)\u001B[49m\n\u001B[1;32m     55\u001B[0m \u001B[38;5;28;01mexcept\u001B[39;00m core\u001B[38;5;241m.\u001B[39m_NotOkStatusException \u001B[38;5;28;01mas\u001B[39;00m e:\n\u001B[1;32m     56\u001B[0m   \u001B[38;5;28;01mif\u001B[39;00m name \u001B[38;5;129;01mis\u001B[39;00m \u001B[38;5;129;01mnot\u001B[39;00m \u001B[38;5;28;01mNone\u001B[39;00m:\n",
      "\u001B[0;31mKeyboardInterrupt\u001B[0m: "
     ]
    }
   ],
   "execution_count": 7
  },
  {
   "metadata": {
    "ExecuteTime": {
     "end_time": "2024-04-25T13:51:31.061098Z",
     "start_time": "2024-04-25T13:51:31.056484Z"
    }
   },
   "cell_type": "code",
   "source": [
    "#visualize fitting of model\n",
    "def check_metrics(history, figure_name):\n",
    "\n",
    "    train = history.history[f'{figure_name}']\n",
    "    val = history.history[f'val_{figure_name}']\n",
    "\n",
    "    epochs = range(1, len(train) + 1)\n",
    "    plt.plot(epochs, train, 'b', label=f'Training {figure_name}', color='orange')\n",
    "    plt.plot(epochs, val, 'b', label=f'Validation {figure_name}')\n",
    "    plt.title(f'Training and Validation {figure_name}')\n",
    "    plt.xlabel('Epochs')\n",
    "    plt.ylabel(f'{figure_name}')\n",
    "    plt.legend()\n",
    "    plt.show()"
   ],
   "id": "770487dae46807c0",
   "outputs": [],
   "execution_count": 8
  },
  {
   "metadata": {
    "ExecuteTime": {
     "end_time": "2024-04-25T13:32:32.349551Z",
     "start_time": "2024-04-25T13:32:32.346656Z"
    }
   },
   "cell_type": "code",
   "source": [
    "check_metrics(history_fcc_nn, 'loss')\n",
    "check_metrics(history_fcc_nn, 'accuracy')"
   ],
   "id": "5cdebabdc35f97ad",
   "outputs": [],
   "execution_count": null
  },
  {
   "metadata": {
    "ExecuteTime": {
     "end_time": "2024-04-25T13:32:32.353364Z",
     "start_time": "2024-04-25T13:32:32.352602Z"
    }
   },
   "cell_type": "code",
   "source": [
    "#try to add Normalizstion layers\n",
    "def fcc_nn_model_2():\n",
    "    model= keras.Sequential()\n",
    "    model.add(layers.Flatten (input_shape=[128,128,3]))\n",
    "    model.add(layers.Dense(128, activation='relu'))\n",
    "    model.add(layers.BatchNormalization())\n",
    "    model.add(layers.Dense(64, activation='relu'))\n",
    "    model.add(layers.BatchNormalization())\n",
    "    model.add(layers.Dense(32, activation='relu'))\n",
    "    model.add(layers.BatchNormalization())\n",
    "    model.add(layers.Dense(2, activation='softmax'))\n",
    "    model.compile(optimizer='adam',\n",
    "                  loss='sparse_categorical_crossentropy',\n",
    "                  metrics = ['accuracy'])\n",
    "    return model"
   ],
   "id": "e4df12da294a61cb",
   "outputs": [],
   "execution_count": null
  },
  {
   "metadata": {},
   "cell_type": "code",
   "source": [
    "model_fcc_2=fcc_nn_model_2()\n",
    "history_fcc_nn_2 = model_fcc_2.fit(train_data,\n",
    "          epochs=30,\n",
    "          validation_data=test_data, \n",
    "          batch_size=128)\n",
    "\n",
    "#evaluate model on test data\n",
    "test_loss_fcc, test_accuracy_fcc = model_fcc_2.evaluate(test_data)"
   ],
   "id": "8768dce51eba8f21",
   "outputs": [],
   "execution_count": null
  },
  {
   "metadata": {},
   "cell_type": "code",
   "source": [
    "check_metrics(history_fcc_nn_2, 'loss')\n",
    "check_metrics(history_fcc_nn_2, 'accuracy')"
   ],
   "id": "b4a7b78f6107feaf",
   "outputs": [],
   "execution_count": null
  },
  {
   "metadata": {},
   "cell_type": "code",
   "source": [
    "#add regularization to model\n",
    "def fcc_nn_model_3():\n",
    "    model = keras.Sequential()\n",
    "    model.add(layers.Flatten(input_shape=[128,128,3]))\n",
    "    model.add(layers.Dense(128, activation='relu',\n",
    "                    kernel_regularizer=regularizers.l2(0.01)))\n",
    "    model.add(layers.Dropout(0.1))\n",
    "    model.add(layers.Dense(64, activation='relu',\n",
    "                    kernel_regularizer=regularizers.l2(0.01)))\n",
    "    model.add(layers.Dropout(0.1))\n",
    "    model.add(layers.Dense(32, activation='relu',\n",
    "                    kernel_regularizer=regularizers.l2(0.01)))\n",
    "    model.add(layers.Dropout(0.1))\n",
    "    model.add(layers.Dense(16, activation='relu',\n",
    "                    kernel_regularizer=regularizers.l2(0.01)))\n",
    "    model.add(layers.Dropout(0.1))\n",
    "    model.add(layers.Dense(2, activation='softmax'))\n",
    "    model.compile(optimizer='adam',\n",
    "                  loss='sparse_categorical_crossentropy',\n",
    "                  metrics=['accuracy'])\n",
    "    return model"
   ],
   "id": "936c984640000f63",
   "outputs": [],
   "execution_count": null
  },
  {
   "metadata": {},
   "cell_type": "code",
   "source": [
    "model_fcc_3=fcc_nn_model_3()\n",
    "history_fcc_nn_3 = model_fcc_3.fit(train_data,\n",
    "          epochs=30,\n",
    "          validation_data=test_data)\n",
    "\n",
    "test_loss_fcc_3, test_accuracy_fcc_3 = model_fcc_3.evaluate(test_data)\n",
    "print('Accuracy on test', test_accuracy_fcc_3)"
   ],
   "id": "568f3cdce545c944",
   "outputs": [],
   "execution_count": null
  },
  {
   "metadata": {},
   "cell_type": "code",
   "source": [
    "#add Convolution layers, which are mo suitable for solving such tasks\n",
    "def conv_nn_model():\n",
    "    model= keras.Sequential()\n",
    "    model.add(layers.Conv2D(64, kernel_size=(2,2), activation='relu', input_shape=[128,128,3]))\n",
    "    model.add(layers.MaxPooling2D(pool_size=(2,2)))\n",
    "    model.add(layers.Flatten())\n",
    "    model.add(layers.Dense(32, activation='relu'))\n",
    "    model.add(layers.Dense(2, activation='softmax'))\n",
    "\n",
    "    model.compile(optimizer='adam',\n",
    "                  loss='sparse_categorical_crossentropy',\n",
    "                  metrics = ['accuracy'])\n",
    "    return model"
   ],
   "id": "1e5a23196f1207ab",
   "outputs": [],
   "execution_count": null
  },
  {
   "metadata": {},
   "cell_type": "code",
   "source": [
    "model_1=conv_nn_model()\n",
    "history_1 = model_1.fit(train_data,\n",
    "          epochs=50,\n",
    "          validation_data=test_data)\n",
    "\n",
    "#evaluate model\n",
    "test_loss_1, test_accuracy_1 = model_1.evaluate(test_data)"
   ],
   "id": "1bda299a614cee9e",
   "outputs": [],
   "execution_count": null
  },
  {
   "metadata": {},
   "cell_type": "code",
   "source": [
    "check_metrics(history_1, 'loss')\n",
    "check_metrics(history_1, 'accuracy')"
   ],
   "id": "5e8c166097f663ae",
   "outputs": [],
   "execution_count": null
  },
  {
   "metadata": {},
   "cell_type": "code",
   "source": [
    "def conv_nn_model_2():\n",
    "    model = keras.Sequential()\n",
    "    model.add(layers.Conv2D(64, kernel_size=(3,3), activation='relu', input_shape=[128,128,3], padding='same'))\n",
    "    model.add(layers.MaxPooling2D(pool_size=(3,3)))\n",
    "    model.add(layers.BatchNormalization())\n",
    "    model.add(layers.Conv2D(64, kernel_size=(3,3), activation='relu', padding='same'))\n",
    "    model.add(layers.MaxPooling2D(pool_size=(3,3)))\n",
    "    model.add(layers.BatchNormalization())\n",
    "    model.add(layers.Conv2D(32, kernel_size=(3,3), activation='relu', padding='same'))\n",
    "    model.add(layers.MaxPooling2D(pool_size=(3,3)))\n",
    "    model.add(layers.BatchNormalization())\n",
    "    model.add(layers.Flatten())\n",
    "    model.add(layers.Dense (32, activation='relu'))\n",
    "    model.add(layers.Dropout(0.1))\n",
    "    model.add(layers.Dense(16, activation='relu'))\n",
    "    model.add(layers.BatchNormalization())\n",
    "    model.add(layers.Dense(2, activation='softmax'))\n",
    "\n",
    "    model.compile(optimizer='adam',\n",
    "                  loss='sparse_categorical_crossentropy',\n",
    "                  metrics = ['accuracy'])\n",
    "    return model"
   ],
   "id": "88f646aa877db4d3",
   "outputs": [],
   "execution_count": null
  },
  {
   "metadata": {},
   "cell_type": "code",
   "source": [
    "model_2=conv_nn_model_2()\n",
    "\n",
    "history_2 = model_2.fit(train_data,\n",
    "          epochs=50,\n",
    "          validation_data=test_data)\n",
    "\n",
    "test_loss_2, test_accuracy_2 = model_2.evaluate(test_data)\n",
    "print('Accuracy on test', test_accuracy_2)"
   ],
   "id": "29cb919b92d142c9",
   "outputs": [],
   "execution_count": null
  },
  {
   "metadata": {},
   "cell_type": "code",
   "source": [
    "check_metrics(history_2, 'loss')\n",
    "check_metrics(history_2, 'accuracy')"
   ],
   "id": "1af78e302a4ca837",
   "outputs": [],
   "execution_count": null
  },
  {
   "metadata": {},
   "cell_type": "code",
   "source": [
    "#take out regularization on Connolutional layers, as it  had bad impact on results of prevouis model \n",
    "def conv_nn_model_3():\n",
    "    model= keras.Sequential()\n",
    "    model.add(layers.Conv2D(64, kernel_size=(3,3), activation='relu', input_shape=[128,128,3]))\n",
    "    model.add(layers.MaxPooling2D(pool_size=(3,3)))\n",
    "    model.add(layers.Conv2D(64, kernel_size=(2,2), activation='relu'))\n",
    "    model.add(layers.MaxPooling2D(pool_size=(2,2)))\n",
    "    model.add(layers.Conv2D(32, kernel_size=(3,3), activation='relu'))\n",
    "    model.add(layers.MaxPooling2D(pool_size=(3,3)))\n",
    "    model.add(layers.Flatten())\n",
    "    model.add(layers.Dense (32, activation='relu'))\n",
    "    model.add(layers.Dropout(0.01))\n",
    "    model.add(layers.Dense(16, activation='relu'))\n",
    "    model.add(layers.Dropout(0.01))\n",
    "    model.add(layers.Dense(2, activation='softmax'))\n",
    "    \n",
    "    model.compile(optimizer='adam',\n",
    "              loss='sparse_categorical_crossentropy',\n",
    "              metrics = ['accuracy'])\n",
    "    return model"
   ],
   "id": "204abf18257d3fec",
   "outputs": [],
   "execution_count": null
  },
  {
   "metadata": {},
   "cell_type": "code",
   "source": [
    "model_2_2=conv_nn_model_3()\n",
    "\n",
    "history_2_2 = model_2_2.fit(train_data,\n",
    "          epochs=60,\n",
    "          validation_data=test_data)\n",
    "\n",
    "test_loss_2_2, test_accuracy_2_2 = model_2_2.evaluate(test_data)\n",
    "print('Accuracy on test', test_accuracy_2_2)"
   ],
   "id": "f45d0f6ba6be773a",
   "outputs": [],
   "execution_count": null
  },
  {
   "metadata": {},
   "cell_type": "code",
   "source": [
    "check_metrics(history_2_2, 'loss')\n",
    "check_metrics(history_2_2, 'accuracy')"
   ],
   "id": "2ff0027b71699d41",
   "outputs": [],
   "execution_count": null
  },
  {
   "metadata": {
    "ExecuteTime": {
     "end_time": "2024-04-25T13:32:44.252251Z",
     "start_time": "2024-04-25T13:32:44.246119Z"
    }
   },
   "cell_type": "code",
   "source": [
    "def model_cnn():\n",
    "    model= keras.Sequential()\n",
    "    model.add(layers.Conv2D(64, kernel_size=(3,3), activation='relu', input_shape=[128,128,3]))\n",
    "    model.add(layers.MaxPooling2D(pool_size=(3,3)))\n",
    "    model.add(layers.Dropout(0.01))\n",
    "    model.add(layers.Conv2D(64, kernel_size=(2,2), activation='relu'))\n",
    "    model.add(layers.MaxPooling2D(pool_size=(2,2)))\n",
    "    model.add(layers.Dropout(0.01))\n",
    "    model.add(layers.Conv2D(32, kernel_size=(3,3), activation='relu'))\n",
    "    model.add(layers.MaxPooling2D(pool_size=(3,3)))\n",
    "    model.add(layers.Dropout(0.01))\n",
    "    model.add(layers.Flatten())\n",
    "    model.add(layers.Dense (32, activation='relu'))\n",
    "    model.add(layers.Dropout(0.01))\n",
    "    model.add(layers.Dense(16, activation='relu'))\n",
    "    model.add(layers.Dropout(0.01))\n",
    "    model.add(layers.Dense(2, activation='softmax'))\n",
    "\n",
    "    model.compile(optimizer='adam',\n",
    "                  loss='sparse_categorical_crossentropy',\n",
    "                  metrics = ['accuracy'])\n",
    "    return model"
   ],
   "id": "582b80472c6b6861",
   "outputs": [],
   "execution_count": 2
  },
  {
   "metadata": {
    "ExecuteTime": {
     "end_time": "2024-04-25T13:50:16.623031Z",
     "start_time": "2024-04-25T13:32:55.652565Z"
    }
   },
   "cell_type": "code",
   "source": [
    "model_3= model_cnn()\n",
    "\n",
    "history_3=model_3.fit(x=train_data, validation_data=test_data, epochs=60)\n",
    "\n",
    "test_loss_3, test_accuracy_3 = model_3.evaluate(test_data)\n",
    "print('Accuracy on test', test_accuracy_3)"
   ],
   "id": "abdb30d1bb11a7da",
   "outputs": [
    {
     "name": "stdout",
     "output_type": "stream",
     "text": [
      "Epoch 1/60\n"
     ]
    },
    {
     "name": "stderr",
     "output_type": "stream",
     "text": [
      "2024-04-25 15:32:56.587166: I tensorflow/core/grappler/optimizers/custom_graph_optimizer_registry.cc:117] Plugin optimizer for device_type GPU is enabled.\n",
      "/Users/alenamartinkova/venvs/neural-networks-me/lib/python3.11/site-packages/keras/src/trainers/data_adapters/py_dataset_adapter.py:120: UserWarning: Your `PyDataset` class should call `super().__init__(**kwargs)` in its constructor. `**kwargs` can include `workers`, `use_multiprocessing`, `max_queue_size`. Do not pass these arguments to `fit()`, as they will be ignored.\n",
      "  self._warn_if_super_not_called()\n"
     ]
    },
    {
     "name": "stdout",
     "output_type": "stream",
     "text": [
      "\u001B[1m74/74\u001B[0m \u001B[32m━━━━━━━━━━━━━━━━━━━━\u001B[0m\u001B[37m\u001B[0m \u001B[1m21s\u001B[0m 239ms/step - accuracy: 0.4920 - loss: 0.7972 - val_accuracy: 0.5405 - val_loss: 0.6908\n",
      "Epoch 2/60\n",
      "\u001B[1m74/74\u001B[0m \u001B[32m━━━━━━━━━━━━━━━━━━━━\u001B[0m\u001B[37m\u001B[0m \u001B[1m17s\u001B[0m 212ms/step - accuracy: 0.4004 - loss: 0.6982 - val_accuracy: 0.5405 - val_loss: 0.6883\n",
      "Epoch 3/60\n",
      "\u001B[1m74/74\u001B[0m \u001B[32m━━━━━━━━━━━━━━━━━━━━\u001B[0m\u001B[37m\u001B[0m \u001B[1m19s\u001B[0m 240ms/step - accuracy: 0.5895 - loss: 0.6938 - val_accuracy: 0.5405 - val_loss: 0.6891\n",
      "Epoch 4/60\n",
      "\u001B[1m74/74\u001B[0m \u001B[32m━━━━━━━━━━━━━━━━━━━━\u001B[0m\u001B[37m\u001B[0m \u001B[1m18s\u001B[0m 216ms/step - accuracy: 0.5389 - loss: 0.6901 - val_accuracy: 0.7340 - val_loss: 0.6869\n",
      "Epoch 5/60\n",
      "\u001B[1m74/74\u001B[0m \u001B[32m━━━━━━━━━━━━━━━━━━━━\u001B[0m\u001B[37m\u001B[0m \u001B[1m19s\u001B[0m 237ms/step - accuracy: 0.6140 - loss: 0.6894 - val_accuracy: 0.5405 - val_loss: 0.6899\n",
      "Epoch 6/60\n",
      "\u001B[1m74/74\u001B[0m \u001B[32m━━━━━━━━━━━━━━━━━━━━\u001B[0m\u001B[37m\u001B[0m \u001B[1m17s\u001B[0m 212ms/step - accuracy: 0.5683 - loss: 0.8456 - val_accuracy: 0.5405 - val_loss: 0.6906\n",
      "Epoch 7/60\n",
      "\u001B[1m74/74\u001B[0m \u001B[32m━━━━━━━━━━━━━━━━━━━━\u001B[0m\u001B[37m\u001B[0m \u001B[1m17s\u001B[0m 208ms/step - accuracy: 0.5330 - loss: 0.6920 - val_accuracy: 0.5405 - val_loss: 0.6903\n",
      "Epoch 8/60\n",
      "\u001B[1m74/74\u001B[0m \u001B[32m━━━━━━━━━━━━━━━━━━━━\u001B[0m\u001B[37m\u001B[0m \u001B[1m17s\u001B[0m 211ms/step - accuracy: 0.6293 - loss: 0.6825 - val_accuracy: 0.5405 - val_loss: 0.6901\n",
      "Epoch 9/60\n",
      "\u001B[1m74/74\u001B[0m \u001B[32m━━━━━━━━━━━━━━━━━━━━\u001B[0m\u001B[37m\u001B[0m \u001B[1m17s\u001B[0m 209ms/step - accuracy: 0.4350 - loss: 0.7051 - val_accuracy: 0.5405 - val_loss: 0.6896\n",
      "Epoch 10/60\n",
      "\u001B[1m74/74\u001B[0m \u001B[32m━━━━━━━━━━━━━━━━━━━━\u001B[0m\u001B[37m\u001B[0m \u001B[1m17s\u001B[0m 206ms/step - accuracy: 0.5052 - loss: 0.6945 - val_accuracy: 0.5405 - val_loss: 0.6862\n",
      "Epoch 11/60\n",
      "\u001B[1m74/74\u001B[0m \u001B[32m━━━━━━━━━━━━━━━━━━━━\u001B[0m\u001B[37m\u001B[0m \u001B[1m17s\u001B[0m 213ms/step - accuracy: 0.5544 - loss: 0.6873 - val_accuracy: 0.5405 - val_loss: 0.6845\n",
      "Epoch 12/60\n",
      "\u001B[1m74/74\u001B[0m \u001B[32m━━━━━━━━━━━━━━━━━━━━\u001B[0m\u001B[37m\u001B[0m \u001B[1m16s\u001B[0m 205ms/step - accuracy: 0.5291 - loss: 0.6898 - val_accuracy: 0.5405 - val_loss: 0.6843\n",
      "Epoch 13/60\n",
      "\u001B[1m74/74\u001B[0m \u001B[32m━━━━━━━━━━━━━━━━━━━━\u001B[0m\u001B[37m\u001B[0m \u001B[1m17s\u001B[0m 211ms/step - accuracy: 0.5779 - loss: 0.6810 - val_accuracy: 0.5963 - val_loss: 0.6717\n",
      "Epoch 14/60\n",
      "\u001B[1m74/74\u001B[0m \u001B[32m━━━━━━━━━━━━━━━━━━━━\u001B[0m\u001B[37m\u001B[0m \u001B[1m17s\u001B[0m 215ms/step - accuracy: 0.5139 - loss: 0.6834 - val_accuracy: 0.7652 - val_loss: 0.5295\n",
      "Epoch 15/60\n",
      "\u001B[1m74/74\u001B[0m \u001B[32m━━━━━━━━━━━━━━━━━━━━\u001B[0m\u001B[37m\u001B[0m \u001B[1m17s\u001B[0m 213ms/step - accuracy: 0.5938 - loss: 0.7083 - val_accuracy: 0.7508 - val_loss: 0.6458\n",
      "Epoch 16/60\n",
      "\u001B[1m74/74\u001B[0m \u001B[32m━━━━━━━━━━━━━━━━━━━━\u001B[0m\u001B[37m\u001B[0m \u001B[1m17s\u001B[0m 221ms/step - accuracy: 0.7236 - loss: 0.6405 - val_accuracy: 0.7796 - val_loss: 0.5801\n",
      "Epoch 17/60\n",
      "\u001B[1m74/74\u001B[0m \u001B[32m━━━━━━━━━━━━━━━━━━━━\u001B[0m\u001B[37m\u001B[0m \u001B[1m17s\u001B[0m 213ms/step - accuracy: 0.7686 - loss: 0.5985 - val_accuracy: 0.6360 - val_loss: 0.6304\n",
      "Epoch 18/60\n",
      "\u001B[1m74/74\u001B[0m \u001B[32m━━━━━━━━━━━━━━━━━━━━\u001B[0m\u001B[37m\u001B[0m \u001B[1m17s\u001B[0m 215ms/step - accuracy: 0.6636 - loss: 0.6497 - val_accuracy: 0.7821 - val_loss: 0.5640\n",
      "Epoch 19/60\n",
      "\u001B[1m74/74\u001B[0m \u001B[32m━━━━━━━━━━━━━━━━━━━━\u001B[0m\u001B[37m\u001B[0m \u001B[1m17s\u001B[0m 211ms/step - accuracy: 0.7830 - loss: 0.5103 - val_accuracy: 0.7264 - val_loss: 0.5746\n",
      "Epoch 20/60\n",
      "\u001B[1m74/74\u001B[0m \u001B[32m━━━━━━━━━━━━━━━━━━━━\u001B[0m\u001B[37m\u001B[0m \u001B[1m17s\u001B[0m 212ms/step - accuracy: 0.8266 - loss: 0.4109 - val_accuracy: 0.7829 - val_loss: 0.4652\n",
      "Epoch 21/60\n",
      "\u001B[1m74/74\u001B[0m \u001B[32m━━━━━━━━━━━━━━━━━━━━\u001B[0m\u001B[37m\u001B[0m \u001B[1m17s\u001B[0m 214ms/step - accuracy: 0.8119 - loss: 0.4406 - val_accuracy: 0.8201 - val_loss: 0.4004\n",
      "Epoch 22/60\n",
      "\u001B[1m74/74\u001B[0m \u001B[32m━━━━━━━━━━━━━━━━━━━━\u001B[0m\u001B[37m\u001B[0m \u001B[1m17s\u001B[0m 213ms/step - accuracy: 0.7926 - loss: 0.4460 - val_accuracy: 0.8353 - val_loss: 0.3881\n",
      "Epoch 23/60\n",
      "\u001B[1m74/74\u001B[0m \u001B[32m━━━━━━━━━━━━━━━━━━━━\u001B[0m\u001B[37m\u001B[0m \u001B[1m17s\u001B[0m 210ms/step - accuracy: 0.8312 - loss: 0.3896 - val_accuracy: 0.8117 - val_loss: 0.4084\n",
      "Epoch 24/60\n",
      "\u001B[1m74/74\u001B[0m \u001B[32m━━━━━━━━━━━━━━━━━━━━\u001B[0m\u001B[37m\u001B[0m \u001B[1m17s\u001B[0m 208ms/step - accuracy: 0.8463 - loss: 0.3535 - val_accuracy: 0.7686 - val_loss: 0.4814\n",
      "Epoch 25/60\n",
      "\u001B[1m74/74\u001B[0m \u001B[32m━━━━━━━━━━━━━━━━━━━━\u001B[0m\u001B[37m\u001B[0m \u001B[1m18s\u001B[0m 234ms/step - accuracy: 0.8187 - loss: 0.4046 - val_accuracy: 0.8201 - val_loss: 0.4533\n",
      "Epoch 26/60\n",
      "\u001B[1m74/74\u001B[0m \u001B[32m━━━━━━━━━━━━━━━━━━━━\u001B[0m\u001B[37m\u001B[0m \u001B[1m17s\u001B[0m 209ms/step - accuracy: 0.8263 - loss: 0.4196 - val_accuracy: 0.8539 - val_loss: 0.3461\n",
      "Epoch 27/60\n",
      "\u001B[1m74/74\u001B[0m \u001B[32m━━━━━━━━━━━━━━━━━━━━\u001B[0m\u001B[37m\u001B[0m \u001B[1m17s\u001B[0m 214ms/step - accuracy: 0.8654 - loss: 0.3149 - val_accuracy: 0.8649 - val_loss: 0.3342\n",
      "Epoch 28/60\n",
      "\u001B[1m74/74\u001B[0m \u001B[32m━━━━━━━━━━━━━━━━━━━━\u001B[0m\u001B[37m\u001B[0m \u001B[1m17s\u001B[0m 215ms/step - accuracy: 0.8897 - loss: 0.2550 - val_accuracy: 0.8497 - val_loss: 0.3431\n",
      "Epoch 29/60\n",
      "\u001B[1m74/74\u001B[0m \u001B[32m━━━━━━━━━━━━━━━━━━━━\u001B[0m\u001B[37m\u001B[0m \u001B[1m17s\u001B[0m 219ms/step - accuracy: 0.8867 - loss: 0.2647 - val_accuracy: 0.8657 - val_loss: 0.3189\n",
      "Epoch 30/60\n",
      "\u001B[1m74/74\u001B[0m \u001B[32m━━━━━━━━━━━━━━━━━━━━\u001B[0m\u001B[37m\u001B[0m \u001B[1m17s\u001B[0m 207ms/step - accuracy: 0.9097 - loss: 0.2182 - val_accuracy: 0.8775 - val_loss: 0.3221\n",
      "Epoch 31/60\n",
      "\u001B[1m74/74\u001B[0m \u001B[32m━━━━━━━━━━━━━━━━━━━━\u001B[0m\u001B[37m\u001B[0m \u001B[1m17s\u001B[0m 213ms/step - accuracy: 0.9103 - loss: 0.2099 - val_accuracy: 0.8843 - val_loss: 0.2965\n",
      "Epoch 32/60\n",
      "\u001B[1m74/74\u001B[0m \u001B[32m━━━━━━━━━━━━━━━━━━━━\u001B[0m\u001B[37m\u001B[0m \u001B[1m17s\u001B[0m 218ms/step - accuracy: 0.9125 - loss: 0.2089 - val_accuracy: 0.9029 - val_loss: 0.2902\n",
      "Epoch 33/60\n",
      "\u001B[1m74/74\u001B[0m \u001B[32m━━━━━━━━━━━━━━━━━━━━\u001B[0m\u001B[37m\u001B[0m \u001B[1m17s\u001B[0m 215ms/step - accuracy: 0.9213 - loss: 0.2007 - val_accuracy: 0.8615 - val_loss: 0.3428\n",
      "Epoch 34/60\n",
      "\u001B[1m74/74\u001B[0m \u001B[32m━━━━━━━━━━━━━━━━━━━━\u001B[0m\u001B[37m\u001B[0m \u001B[1m17s\u001B[0m 217ms/step - accuracy: 0.9257 - loss: 0.1783 - val_accuracy: 0.8877 - val_loss: 0.3160\n",
      "Epoch 35/60\n",
      "\u001B[1m74/74\u001B[0m \u001B[32m━━━━━━━━━━━━━━━━━━━━\u001B[0m\u001B[37m\u001B[0m \u001B[1m19s\u001B[0m 247ms/step - accuracy: 0.9259 - loss: 0.1864 - val_accuracy: 0.8818 - val_loss: 0.3085\n",
      "Epoch 36/60\n",
      "\u001B[1m74/74\u001B[0m \u001B[32m━━━━━━━━━━━━━━━━━━━━\u001B[0m\u001B[37m\u001B[0m \u001B[1m18s\u001B[0m 226ms/step - accuracy: 0.9498 - loss: 0.1276 - val_accuracy: 0.8868 - val_loss: 0.2938\n",
      "Epoch 37/60\n",
      "\u001B[1m74/74\u001B[0m \u001B[32m━━━━━━━━━━━━━━━━━━━━\u001B[0m\u001B[37m\u001B[0m \u001B[1m19s\u001B[0m 237ms/step - accuracy: 0.9237 - loss: 0.1849 - val_accuracy: 0.8767 - val_loss: 0.2988\n",
      "Epoch 38/60\n",
      "\u001B[1m74/74\u001B[0m \u001B[32m━━━━━━━━━━━━━━━━━━━━\u001B[0m\u001B[37m\u001B[0m \u001B[1m18s\u001B[0m 230ms/step - accuracy: 0.9518 - loss: 0.1350 - val_accuracy: 0.8970 - val_loss: 0.3240\n",
      "Epoch 39/60\n",
      "\u001B[1m74/74\u001B[0m \u001B[32m━━━━━━━━━━━━━━━━━━━━\u001B[0m\u001B[37m\u001B[0m \u001B[1m18s\u001B[0m 226ms/step - accuracy: 0.9452 - loss: 0.1414 - val_accuracy: 0.9029 - val_loss: 0.3147\n",
      "Epoch 40/60\n",
      "\u001B[1m74/74\u001B[0m \u001B[32m━━━━━━━━━━━━━━━━━━━━\u001B[0m\u001B[37m\u001B[0m \u001B[1m18s\u001B[0m 226ms/step - accuracy: 0.9565 - loss: 0.1119 - val_accuracy: 0.8573 - val_loss: 0.4637\n",
      "Epoch 41/60\n",
      "\u001B[1m74/74\u001B[0m \u001B[32m━━━━━━━━━━━━━━━━━━━━\u001B[0m\u001B[37m\u001B[0m \u001B[1m18s\u001B[0m 215ms/step - accuracy: 0.9263 - loss: 0.1839 - val_accuracy: 0.8699 - val_loss: 0.3393\n",
      "Epoch 42/60\n",
      "\u001B[1m74/74\u001B[0m \u001B[32m━━━━━━━━━━━━━━━━━━━━\u001B[0m\u001B[37m\u001B[0m \u001B[1m17s\u001B[0m 218ms/step - accuracy: 0.9563 - loss: 0.1104 - val_accuracy: 0.8961 - val_loss: 0.3153\n",
      "Epoch 43/60\n",
      "\u001B[1m74/74\u001B[0m \u001B[32m━━━━━━━━━━━━━━━━━━━━\u001B[0m\u001B[37m\u001B[0m \u001B[1m17s\u001B[0m 218ms/step - accuracy: 0.9721 - loss: 0.0796 - val_accuracy: 0.8894 - val_loss: 0.3301\n",
      "Epoch 44/60\n",
      "\u001B[1m74/74\u001B[0m \u001B[32m━━━━━━━━━━━━━━━━━━━━\u001B[0m\u001B[37m\u001B[0m \u001B[1m17s\u001B[0m 216ms/step - accuracy: 0.9807 - loss: 0.0603 - val_accuracy: 0.8910 - val_loss: 0.3409\n",
      "Epoch 45/60\n",
      "\u001B[1m74/74\u001B[0m \u001B[32m━━━━━━━━━━━━━━━━━━━━\u001B[0m\u001B[37m\u001B[0m \u001B[1m18s\u001B[0m 233ms/step - accuracy: 0.9736 - loss: 0.0757 - val_accuracy: 0.8843 - val_loss: 0.3585\n",
      "Epoch 46/60\n",
      "\u001B[1m74/74\u001B[0m \u001B[32m━━━━━━━━━━━━━━━━━━━━\u001B[0m\u001B[37m\u001B[0m \u001B[1m18s\u001B[0m 232ms/step - accuracy: 0.9829 - loss: 0.0591 - val_accuracy: 0.8936 - val_loss: 0.3480\n",
      "Epoch 47/60\n",
      "\u001B[1m74/74\u001B[0m \u001B[32m━━━━━━━━━━━━━━━━━━━━\u001B[0m\u001B[37m\u001B[0m \u001B[1m18s\u001B[0m 232ms/step - accuracy: 0.9785 - loss: 0.0632 - val_accuracy: 0.8936 - val_loss: 0.3563\n",
      "Epoch 48/60\n",
      "\u001B[1m74/74\u001B[0m \u001B[32m━━━━━━━━━━━━━━━━━━━━\u001B[0m\u001B[37m\u001B[0m \u001B[1m17s\u001B[0m 214ms/step - accuracy: 0.9891 - loss: 0.0344 - val_accuracy: 0.9012 - val_loss: 0.3768\n",
      "Epoch 49/60\n",
      "\u001B[1m74/74\u001B[0m \u001B[32m━━━━━━━━━━━━━━━━━━━━\u001B[0m\u001B[37m\u001B[0m \u001B[1m16s\u001B[0m 202ms/step - accuracy: 0.9833 - loss: 0.0502 - val_accuracy: 0.8953 - val_loss: 0.3890\n",
      "Epoch 50/60\n",
      "\u001B[1m74/74\u001B[0m \u001B[32m━━━━━━━━━━━━━━━━━━━━\u001B[0m\u001B[37m\u001B[0m \u001B[1m16s\u001B[0m 201ms/step - accuracy: 0.9892 - loss: 0.0332 - val_accuracy: 0.8970 - val_loss: 0.4043\n",
      "Epoch 51/60\n",
      "\u001B[1m74/74\u001B[0m \u001B[32m━━━━━━━━━━━━━━━━━━━━\u001B[0m\u001B[37m\u001B[0m \u001B[1m16s\u001B[0m 197ms/step - accuracy: 0.9497 - loss: 0.1308 - val_accuracy: 0.8666 - val_loss: 0.3688\n",
      "Epoch 52/60\n",
      "\u001B[1m74/74\u001B[0m \u001B[32m━━━━━━━━━━━━━━━━━━━━\u001B[0m\u001B[37m\u001B[0m \u001B[1m16s\u001B[0m 201ms/step - accuracy: 0.9076 - loss: 0.2378 - val_accuracy: 0.8910 - val_loss: 0.3918\n",
      "Epoch 53/60\n",
      "\u001B[1m74/74\u001B[0m \u001B[32m━━━━━━━━━━━━━━━━━━━━\u001B[0m\u001B[37m\u001B[0m \u001B[1m16s\u001B[0m 200ms/step - accuracy: 0.9804 - loss: 0.0607 - val_accuracy: 0.8919 - val_loss: 0.4218\n",
      "Epoch 54/60\n",
      "\u001B[1m74/74\u001B[0m \u001B[32m━━━━━━━━━━━━━━━━━━━━\u001B[0m\u001B[37m\u001B[0m \u001B[1m17s\u001B[0m 209ms/step - accuracy: 0.9914 - loss: 0.0320 - val_accuracy: 0.8919 - val_loss: 0.4156\n",
      "Epoch 55/60\n",
      "\u001B[1m74/74\u001B[0m \u001B[32m━━━━━━━━━━━━━━━━━━━━\u001B[0m\u001B[37m\u001B[0m \u001B[1m18s\u001B[0m 219ms/step - accuracy: 0.9894 - loss: 0.0277 - val_accuracy: 0.9037 - val_loss: 0.4372\n",
      "Epoch 56/60\n",
      "\u001B[1m74/74\u001B[0m \u001B[32m━━━━━━━━━━━━━━━━━━━━\u001B[0m\u001B[37m\u001B[0m \u001B[1m19s\u001B[0m 232ms/step - accuracy: 0.9952 - loss: 0.0198 - val_accuracy: 0.8995 - val_loss: 0.4841\n",
      "Epoch 57/60\n",
      "\u001B[1m74/74\u001B[0m \u001B[32m━━━━━━━━━━━━━━━━━━━━\u001B[0m\u001B[37m\u001B[0m \u001B[1m17s\u001B[0m 214ms/step - accuracy: 0.9943 - loss: 0.0199 - val_accuracy: 0.8953 - val_loss: 0.4870\n",
      "Epoch 58/60\n",
      "\u001B[1m74/74\u001B[0m \u001B[32m━━━━━━━━━━━━━━━━━━━━\u001B[0m\u001B[37m\u001B[0m \u001B[1m17s\u001B[0m 211ms/step - accuracy: 0.9948 - loss: 0.0155 - val_accuracy: 0.8986 - val_loss: 0.5165\n",
      "Epoch 59/60\n",
      "\u001B[1m74/74\u001B[0m \u001B[32m━━━━━━━━━━━━━━━━━━━━\u001B[0m\u001B[37m\u001B[0m \u001B[1m17s\u001B[0m 218ms/step - accuracy: 0.9960 - loss: 0.0132 - val_accuracy: 0.9003 - val_loss: 0.5116\n",
      "Epoch 60/60\n",
      "\u001B[1m74/74\u001B[0m \u001B[32m━━━━━━━━━━━━━━━━━━━━\u001B[0m\u001B[37m\u001B[0m \u001B[1m17s\u001B[0m 213ms/step - accuracy: 0.9962 - loss: 0.0161 - val_accuracy: 0.8919 - val_loss: 0.5550\n",
      "\u001B[1m19/19\u001B[0m \u001B[32m━━━━━━━━━━━━━━━━━━━━\u001B[0m\u001B[37m\u001B[0m \u001B[1m3s\u001B[0m 164ms/step - accuracy: 0.9029 - loss: 0.4776\n",
      "Accuracy on test 0.8918918967247009\n"
     ]
    }
   ],
   "execution_count": 5
  },
  {
   "metadata": {
    "ExecuteTime": {
     "end_time": "2024-04-25T13:51:10.784591Z",
     "start_time": "2024-04-25T13:51:06.978037Z"
    }
   },
   "cell_type": "code",
   "source": [
    "highest_accuracy_3 = max(history_3.history['accuracy'])\n",
    "print('Highest train accuracy:', highest_accuracy_3)\n",
    "\n",
    "test_loss_3, test_accuracy_3 = model_3.evaluate(test_data)\n",
    "print('Highest test accuracy:', test_accuracy_3)"
   ],
   "id": "1046856a5990f638",
   "outputs": [
    {
     "name": "stdout",
     "output_type": "stream",
     "text": [
      "Highest train accuracy: 0.9961969256401062\n",
      "\u001B[1m19/19\u001B[0m \u001B[32m━━━━━━━━━━━━━━━━━━━━\u001B[0m\u001B[37m\u001B[0m \u001B[1m3s\u001B[0m 182ms/step - accuracy: 0.9029 - loss: 0.4776\n",
      "Highest test accuracy: 0.8918918967247009\n"
     ]
    }
   ],
   "execution_count": 6
  },
  {
   "metadata": {
    "ExecuteTime": {
     "end_time": "2024-04-25T13:51:40.401867Z",
     "start_time": "2024-04-25T13:51:39.841450Z"
    }
   },
   "cell_type": "code",
   "source": [
    "check_metrics(history_3, 'loss')\n",
    "check_metrics(history_3, 'accuracy')"
   ],
   "id": "a4ff8a26de71dfbe",
   "outputs": [
    {
     "name": "stderr",
     "output_type": "stream",
     "text": [
      "/var/folders/hk/sz2rrrk15v1bmr5bkbf9fl280000gn/T/ipykernel_98616/1258916042.py:8: UserWarning: color is redundantly defined by the 'color' keyword argument and the fmt string \"b\" (-> color=(0.0, 0.0, 1.0, 1)). The keyword argument will take precedence.\n",
      "  plt.plot(epochs, train, 'b', label=f'Training {figure_name}', color='orange')\n"
     ]
    },
    {
     "data": {
      "text/plain": [
       "<Figure size 640x480 with 1 Axes>"
      ],
      "image/png": "[encoded data removed]"
     },
     "metadata": {},
     "output_type": "display_data"
    },
    {
     "data": {
      "text/plain": [
       "<Figure size 640x480 with 1 Axes>"
      ],
      "image/png": "[encoded data removed]"
     },
     "metadata": {},
     "output_type": "display_data"
    }
   ],
   "execution_count": 9
  }
 ],
 "metadata": {
  "kernelspec": {
   "display_name": "Python 3",
   "language": "python",
   "name": "python3"
  },
  "language_info": {
   "codemirror_mode": {
    "name": "ipython",
    "version": 2
   },
   "file_extension": ".py",
   "mimetype": "text/x-python",
   "name": "python",
   "nbconvert_exporter": "python",
   "pygments_lexer": "ipython2",
   "version": "2.7.6"
  }
 },
 "nbformat": 4,
 "nbformat_minor": 5
}
