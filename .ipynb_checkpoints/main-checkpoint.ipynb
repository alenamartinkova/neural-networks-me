{
 "cells": [
  {
   "cell_type": "code",
   "id": "initial_id",
   "metadata": {
    "collapsed": true,
    "ExecuteTime": {
     "end_time": "2024-04-25T09:17:11.159254Z",
     "start_time": "2024-04-25T09:17:11.155976Z"
    }
   },
   "source": [
    "from keras import Sequential\n",
    "from keras.api.layers import Conv2D, MaxPooling2D, Flatten, Dense\n",
    "from keras.src.legacy.preprocessing.image import ImageDataGenerator"
   ],
   "outputs": [],
   "execution_count": 46
  },
  {
   "metadata": {
    "ExecuteTime": {
     "end_time": "2024-04-25T09:17:11.181893Z",
     "start_time": "2024-04-25T09:17:11.164321Z"
    }
   },
   "cell_type": "code",
   "source": [
    "classifier = Sequential()\n",
    "classifier.add(Conv2D(32, kernel_size=(3, 3), activation='relu', input_shape=(64, 64, 3)))\n",
    "classifier.add(Conv2D(32, kernel_size=(3, 3), activation='relu'))\n",
    "classifier.add(MaxPooling2D(pool_size=(2, 2)))"
   ],
   "id": "bcdf72dc46c62a5f",
   "outputs": [],
   "execution_count": 47
  },
  {
   "metadata": {
    "ExecuteTime": {
     "end_time": "2024-04-25T09:17:11.237087Z",
     "start_time": "2024-04-25T09:17:11.184275Z"
    }
   },
   "cell_type": "code",
   "source": [
    "classifier.add(Flatten())\n",
    "classifier.add(Dense(units=128, activation='relu'))\n",
    "classifier.add(Dense(units=1, activation='sigmoid'))"
   ],
   "id": "21b05f346bde4eb2",
   "outputs": [],
   "execution_count": 48
  },
  {
   "metadata": {
    "ExecuteTime": {
     "end_time": "2024-04-25T09:17:11.246589Z",
     "start_time": "2024-04-25T09:17:11.240937Z"
    }
   },
   "cell_type": "code",
   "source": "classifier.compile(optimizer='adam', loss='binary_crossentropy', metrics=['accuracy'])",
   "id": "da1619fb09bef7ce",
   "outputs": [],
   "execution_count": 49
  },
  {
   "metadata": {
    "ExecuteTime": {
     "end_time": "2024-04-25T09:17:11.439103Z",
     "start_time": "2024-04-25T09:17:11.252091Z"
    }
   },
   "cell_type": "code",
   "source": [
    "train_datagen = ImageDataGenerator(rescale=1./255, shear_range=0.2, zoom_range=0.2, horizontal_flip=True)\n",
    "training_set = train_datagen.flow_from_directory('dataset/train', target_size=(64, 64), batch_size=32, class_mode='binary')"
   ],
   "id": "491e32c76e88601f",
   "outputs": [
    {
     "name": "stdout",
     "output_type": "stream",
     "text": [
      "Found 0 images belonging to 0 classes.\n"
     ]
    }
   ],
   "execution_count": 50
  },
  {
   "metadata": {
    "ExecuteTime": {
     "end_time": "2024-04-25T09:17:11.520992Z",
     "start_time": "2024-04-25T09:17:11.440603Z"
    }
   },
   "cell_type": "code",
   "source": [
    "test_datagen = ImageDataGenerator(rescale=1./255)\n",
    "test_set = test_datagen.flow_from_directory('dataset/test', target_size=(64, 64), batch_size=32, class_mode='binary')"
   ],
   "id": "f318c17f3e45dc5e",
   "outputs": [
    {
     "name": "stdout",
     "output_type": "stream",
     "text": [
      "Found 0 images belonging to 0 classes.\n"
     ]
    }
   ],
   "execution_count": 51
  }
 ],
 "metadata": {
  "kernelspec": {
   "display_name": "Python 3",
   "language": "python",
   "name": "python3"
  },
  "language_info": {
   "codemirror_mode": {
    "name": "ipython",
    "version": 2
   },
   "file_extension": ".py",
   "mimetype": "text/x-python",
   "name": "python",
   "nbconvert_exporter": "python",
   "pygments_lexer": "ipython2",
   "version": "2.7.6"
  }
 },
 "nbformat": 4,
 "nbformat_minor": 5
}
